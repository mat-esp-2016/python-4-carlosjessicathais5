{
 "cells": [
  {
   "cell_type": "markdown",
   "metadata": {},
   "source": [
    "# Questão 3"
   ]
  },
  {
   "cell_type": "code",
   "execution_count": 12,
   "metadata": {
    "collapsed": false
   },
   "outputs": [],
   "source": [
    "#Importamos glob da biblioteca\n",
    "import glob\n",
    "#Chamamos de arquivos a lista com todos os arquivos da pasta dados cujo nome tem as coordenadas da cidade\n",
    "arquivos = glob.glob('dados/*W-TAVG-Trend.txt')"
   ]
  },
  {
   "cell_type": "code",
   "execution_count": 25,
   "metadata": {
    "collapsed": false
   },
   "outputs": [],
   "source": [
    "#Definimos uma função que recebe o nome do arquivo e retorna a latitude, longitude e nome da cidade mais próxima ao local do dado\n",
    "def lat_lon_cidade(arquivo):\n",
    "    dados = open(arquivo, encoding = \"UTF-8\")\n",
    "    dados_linhas = dados.readlines()\n",
    "    regiao = dados_linhas[4]\n",
    "    lat_lon = regiao.strip()[5:]\n",
    "    cidade_prox = dados_linhas[35]\n",
    "    cidade_prox_desejada = cidade_prox.split(',')[0]\n",
    "    cidade_mais_prox = cidade_prox_desejada.split(':')[1]\n",
    "    return (lat_lon, cidade_mais_prox)"
   ]
  },
  {
   "cell_type": "code",
   "execution_count": 27,
   "metadata": {
    "collapsed": false
   },
   "outputs": [
    {
     "name": "stdout",
     "output_type": "stream",
     "text": [
      "('0.80 S, 49.02 W', ' Belém')\n",
      "('10.45 S, 48.27 W', ' Palmas')\n",
      "('13.66 S, 38.81 W', ' Salvador')\n",
      "('15.27 S, 47.50 W', ' Brasília')\n",
      "('2.41 S, 60.27 W', ' Manaus')\n",
      "('20.09 S, 44.36 W', ' Belo Horizonte')\n",
      "('20.09 S, 54.60 W', ' Campo Grande')\n",
      "('23.31 S, 42.82 W', ' Rio de Janeiro')\n",
      "('23.31 S, 46.31 W', ' São Paulo')\n",
      "('24.92 S, 49.66 W', ' Curitiba')\n",
      "('29.74 S, 51.69 W', ' Porto Alegre')\n",
      "('4.02 S, 40.98 W', ' Fortaleza')\n"
     ]
    }
   ],
   "source": [
    "#Vamos testar agora a função com todos os arquivos da pasta dados\n",
    "for arquivo in arquivos:\n",
    "    print(lat_lon_cidade(arquivo))"
   ]
  },
  {
   "cell_type": "markdown",
   "metadata": {},
   "source": [
    "# Questão 4"
   ]
  },
  {
   "cell_type": "code",
   "execution_count": 28,
   "metadata": {
    "collapsed": false
   },
   "outputs": [],
   "source": [
    "#Importamos numpy da biblioteca\n",
    "import numpy as np"
   ]
  },
  {
   "cell_type": "code",
   "execution_count": 79,
   "metadata": {
    "collapsed": false
   },
   "outputs": [],
   "source": [
    "#Definimos a função que recebe um arquivo da pasta dados e nos dá a temperatura anual estimada\n",
    "def temp_anual_est(arquivo):\n",
    "    dados = open(arquivo, encoding = \"UTF-8\")\n",
    "    dados_linhas = dados.readlines()\n",
    "    dados_linhas_temp = dados_linhas[47]\n",
    "    temp = dados_linhas_temp.split(':')[1]\n",
    "    temp_abs_est = float(temp.split('+')[0])\n",
    "    dados_temp = np.loadtxt(arquivo, comments = '%')\n",
    "    anomalia_anual = np.nan_to_num(dados_temp[:,4])\n",
    "    return temp_abs_est + anomalia_anual"
   ]
  },
  {
   "cell_type": "code",
   "execution_count": 81,
   "metadata": {
    "collapsed": false
   },
   "outputs": [
    {
     "name": "stdout",
     "output_type": "stream",
     "text": [
      "[ 26.74   26.74   25.868 ...,  26.74   26.74   26.74 ]\n",
      "[ 26.15   26.15   25.061 ...,  26.15   26.15   26.15 ]\n",
      "[ 24.87   24.87   23.763 ...,  24.87   24.87   24.87 ]\n",
      "[ 21.91   21.91   20.847 ...,  21.91   21.91   21.91 ]\n",
      "[ 26.72  26.72  26.72 ...,  26.72  26.72  26.72]\n",
      "[ 21.26   21.26   20.232 ...,  21.26   21.26   21.26 ]\n",
      "[ 23.68   23.68   22.622 ...,  23.68   23.68   23.68 ]\n",
      "[ 24.01   24.01   22.961 ...,  24.01   24.01   24.01 ]\n",
      "[ 19.9    19.9    18.857 ...,  19.9    19.9    19.9  ]\n",
      "[ 17.6    17.6    16.538 ...,  17.6    17.6    17.6  ]\n",
      "[ 18.41   18.41   17.306 ...,  18.41   18.41   18.41 ]\n",
      "[ 27.08   27.08   26.243 ...,  27.08   27.08   27.08 ]\n"
     ]
    }
   ],
   "source": [
    "#Agora testamos a função com cada um dos arquivos na pasta dados\n",
    "for arquivo in arquivos:\n",
    "    print(temp_anual_est(arquivo))"
   ]
  },
  {
   "cell_type": "code",
   "execution_count": 28,
   "metadata": {
    "collapsed": false
   },
   "outputs": [
    {
     "data": {
      "text/plain": [
       "' -73.98 to -28.84'"
      ]
     },
     "execution_count": 28,
     "metadata": {},
     "output_type": "execute_result"
    }
   ],
   "source": []
  },
  {
   "cell_type": "code",
   "execution_count": 29,
   "metadata": {
    "collapsed": true
   },
   "outputs": [],
   "source": [
    "import numpy as np"
   ]
  },
  {
   "cell_type": "code",
   "execution_count": 35,
   "metadata": {
    "collapsed": false
   },
   "outputs": [
    {
     "data": {
      "text/plain": [
       "('  Brazil', ' -33.75 to 5.26', ' -73.98 to -28.84')"
      ]
     },
     "execution_count": 35,
     "metadata": {},
     "output_type": "execute_result"
    }
   ],
   "source": [
    "def regiao_latitude_longitude(arquivo):\n",
    "    #assert type(arquivo) == , #carlos, não sei que type colocar tentei o np mas não roda\n",
    "    #regiao(nome_da_cidade)\n",
    "    regiao = brazil_TAVG[4].strip()[3:]\n",
    "    latitude= brazil_TAVG[34].strip()[19:]\n",
    "    longitude= brazil_TAVG[35].strip()[20:]\n",
    "    return (regiao, latitude, longitude)\n",
    "regiao_latitude_longitude(arquivo)"
   ]
  },
  {
   "cell_type": "code",
   "execution_count": 43,
   "metadata": {
    "collapsed": false
   },
   "outputs": [
    {
     "data": {
      "text/plain": [
       "['%',\n",
       " 'Estimated',\n",
       " 'Jan',\n",
       " '1951-Dec',\n",
       " '1980',\n",
       " 'absolute',\n",
       " 'temperature',\n",
       " '(C):',\n",
       " '24.93',\n",
       " '+/-',\n",
       " '0.11']"
      ]
     },
     "execution_count": 43,
     "metadata": {},
     "output_type": "execute_result"
    }
   ],
   "source": [
    "est_temp_abs = []\n",
    "indice = []\n",
    "contador = -1\n",
    "for indice_lista in brazil_TAVG:\n",
    "    contador = contador + 1\n",
    "    if 'absolute temperature' in indice_lista:\n",
    "        est_temp_abs.append(indice_lista)\n",
    "        indice.append(contador)\n",
    "est_temp_abs[0].split()"
   ]
  },
  {
   "cell_type": "code",
   "execution_count": 44,
   "metadata": {
    "collapsed": false
   },
   "outputs": [],
   "source": [
    "est_temp_abs[1]\n",
    "indice[1]\n",
    "est_temp_abs_month = np.array(brazil_TAVG[indice[1]+2].split())"
   ]
  },
  {
   "cell_type": "code",
   "execution_count": 47,
   "metadata": {
    "collapsed": false
   },
   "outputs": [
    {
     "data": {
      "text/plain": [
       "array(['%', '25.51', '25.51', '25.41', '24.71', '24.16', '23.53', '23.43',\n",
       "       '24.55', '25.47', '25.62', '25.72', '25.55'], \n",
       "      dtype='<U5')"
      ]
     },
     "execution_count": 47,
     "metadata": {},
     "output_type": "execute_result"
    }
   ],
   "source": [
    "est_temp_abs_month"
   ]
  },
  {
   "cell_type": "code",
   "execution_count": 49,
   "metadata": {
    "collapsed": false
   },
   "outputs": [
    {
     "ename": "ValueError",
     "evalue": "could not convert string to float: '%'",
     "output_type": "error",
     "traceback": [
      "\u001b[1;31m\u001b[0m",
      "\u001b[1;31mValueError\u001b[0mTraceback (most recent call last)",
      "\u001b[1;32m<ipython-input-49-4cc60211808c>\u001b[0m in \u001b[0;36m<module>\u001b[1;34m()\u001b[0m\n\u001b[1;32m----> 1\u001b[1;33m \u001b[0mfloat\u001b[0m\u001b[1;33m(\u001b[0m\u001b[0mest_temp_abs_month\u001b[0m\u001b[1;33m[\u001b[0m\u001b[1;36m0\u001b[0m\u001b[1;33m]\u001b[0m\u001b[1;33m)\u001b[0m \u001b[1;33m*\u001b[0m \u001b[1;36m3\u001b[0m  \u001b[1;31m#então, o float pega uma string e faz operação, mas não sei pq tá dando erro, tá exatamente igual  do professor\u001b[0m\u001b[1;33m\u001b[0m\u001b[0m\n\u001b[0m",
      "\u001b[1;31mValueError\u001b[0m: could not convert string to float: '%'"
     ]
    }
   ],
   "source": [
    "float(est_temp_abs_month[0]) * 3  #então, o float pega uma string e faz operação, mas não sei pq tá dando erro, tá exatamente igual  do professor"
   ]
  },
  {
   "cell_type": "markdown",
   "metadata": {},
   "source": [
    "# Definindo a função que recebe o nome do arquivo de dado como argumento e retorne: um numpy array da temperatura anual estimada"
   ]
  },
  {
   "cell_type": "code",
   "execution_count": null,
   "metadata": {
    "collapsed": true
   },
   "outputs": [],
   "source": [
    "def temp_anodec_anomanual_incanomanual_ano10_incano10(arquivo):\n",
    "    assert type(arquivo) == np.ndarray, \n",
    "    temperatura_anual_estimada =np.nan_to_num(arquivo[:,4]) + \n",
    "      return (temperatura_anual_estimada)"
   ]
  },
  {
   "cell_type": "code",
   "execution_count": 22,
   "metadata": {
    "collapsed": true
   },
   "outputs": [],
   "source": [
    "%matplotlib inline\n",
    "import matplotlib.pyplot as plt\n",
    "import glob \n",
    "# Importamos as bibliotecas necessárias para o trabalho."
   ]
  },
  {
   "cell_type": "code",
   "execution_count": 23,
   "metadata": {
    "collapsed": true
   },
   "outputs": [],
   "source": [
    "arquivos= glob.glob('dados/*.txt')\n",
    "#Pegamos todos os arquivos na pasta 'dados' com o formato .txt"
   ]
  },
  {
   "cell_type": "code",
   "execution_count": 16,
   "metadata": {
    "collapsed": false
   },
   "outputs": [
    {
     "data": {
      "text/plain": [
       "str"
      ]
     },
     "execution_count": 16,
     "metadata": {},
     "output_type": "execute_result"
    }
   ],
   "source": [
    "type('dados/10.45S-48.27W-TAVG-Trend.txt')"
   ]
  },
  {
   "cell_type": "code",
   "execution_count": null,
   "metadata": {
    "collapsed": false
   },
   "outputs": [],
   "source": []
  },
  {
   "cell_type": "code",
   "execution_count": null,
   "metadata": {
    "collapsed": true
   },
   "outputs": [],
   "source": []
  }
 ],
 "metadata": {
  "anaconda-cloud": {},
  "kernelspec": {
   "display_name": "Python [Root]",
   "language": "python",
   "name": "Python [Root]"
  },
  "language_info": {
   "codemirror_mode": {
    "name": "ipython",
    "version": 3
   },
   "file_extension": ".py",
   "mimetype": "text/x-python",
   "name": "python",
   "nbconvert_exporter": "python",
   "pygments_lexer": "ipython3",
   "version": "3.5.2"
  }
 },
 "nbformat": 4,
 "nbformat_minor": 0
}
