{
 "cells": [
  {
   "cell_type": "code",
   "execution_count": 7,
   "metadata": {
    "collapsed": false
   },
   "outputs": [
    {
     "data": {
      "text/plain": [
       "'  Brazil'"
      ]
     },
     "execution_count": 7,
     "metadata": {},
     "output_type": "execute_result"
    }
   ],
   "source": [
    "arquivo=open(\"dados\\\\brazil-TAVG-Trend.txt\")\n",
    "brazil_TAVG = arquivo.readlines()\n",
    "for linha in arquivo:\n",
    "    if linha.startswith('%'):\n",
    "        print(linha.strip())\n",
    "regiao = brazil_TAVG[4]\n",
    "regiao.strip()[3:]"
   ]
  },
  {
   "cell_type": "code",
   "execution_count": 15,
   "metadata": {
    "collapsed": false
   },
   "outputs": [
    {
     "data": {
      "text/plain": [
       "' -33.75 to 5.26'"
      ]
     },
     "execution_count": 15,
     "metadata": {},
     "output_type": "execute_result"
    }
   ],
   "source": [
    "latitude= brazil_TAVG[34]\n",
    "latitude.strip()[19:]\n"
   ]
  },
  {
   "cell_type": "code",
   "execution_count": 17,
   "metadata": {
    "collapsed": false
   },
   "outputs": [
    {
     "data": {
      "text/plain": [
       "' -73.98 to -28.84'"
      ]
     },
     "execution_count": 17,
     "metadata": {},
     "output_type": "execute_result"
    }
   ],
   "source": [
    "longitude= brazil_TAVG[35]    \n",
    "longitude.strip()[20:]"
   ]
  },
  {
   "cell_type": "code",
   "execution_count": 19,
   "metadata": {
    "collapsed": true
   },
   "outputs": [],
   "source": [
    "import numpy as np"
   ]
  },
  {
   "cell_type": "code",
   "execution_count": 46,
   "metadata": {
    "collapsed": false
   },
   "outputs": [
    {
     "ename": "SyntaxError",
     "evalue": "invalid syntax (<ipython-input-46-2feeecd60816>, line 2)",
     "output_type": "error",
     "traceback": [
      "\u001b[1;36m  File \u001b[1;32m\"<ipython-input-46-2feeecd60816>\"\u001b[1;36m, line \u001b[1;32m2\u001b[0m\n\u001b[1;33m    assert type(arquivo) == , #carlos, não sei que type colocar tentei o np mas não roda\u001b[0m\n\u001b[1;37m                            ^\u001b[0m\n\u001b[1;31mSyntaxError\u001b[0m\u001b[1;31m:\u001b[0m invalid syntax\n"
     ]
    }
   ],
   "source": [
    "def regiao_latitude_longitude(arquivo):\n",
    "    assert type(arquivo) == , #carlos, não sei que type colocar tentei o np mas não roda\n",
    "    regiao(nome da cidade)\n",
    "    regiao = brazil_TAVG[4].strip()[3:]\n",
    "    latitude= brazil_TAVG[34].strip()[19:]\n",
    "    longitude= brazil_TAVG[35]strip()[20:]\n",
    "    return (regiao, latitude, longitude)"
   ]
  },
  {
   "cell_type": "code",
   "execution_count": 43,
   "metadata": {
    "collapsed": false
   },
   "outputs": [
    {
     "data": {
      "text/plain": [
       "['%',\n",
       " 'Estimated',\n",
       " 'Jan',\n",
       " '1951-Dec',\n",
       " '1980',\n",
       " 'absolute',\n",
       " 'temperature',\n",
       " '(C):',\n",
       " '24.93',\n",
       " '+/-',\n",
       " '0.11']"
      ]
     },
     "execution_count": 43,
     "metadata": {},
     "output_type": "execute_result"
    }
   ],
   "source": [
    "est_temp_abs = []\n",
    "indice = []\n",
    "contador = -1\n",
    "for indice_lista in brazil_TAVG:\n",
    "    contador = contador + 1\n",
    "    if 'absolute temperature' in indice_lista:\n",
    "        est_temp_abs.append(indice_lista)\n",
    "        indice.append(contador)\n",
    "est_temp_abs[0].split()"
   ]
  },
  {
   "cell_type": "code",
   "execution_count": 44,
   "metadata": {
    "collapsed": false
   },
   "outputs": [],
   "source": [
    "est_temp_abs[1]\n",
    "indice[1]\n",
    "est_temp_abs_month = np.array(brazil_TAVG[indice[1]+2].split())"
   ]
  },
  {
   "cell_type": "code",
   "execution_count": 47,
   "metadata": {
    "collapsed": false
   },
   "outputs": [
    {
     "data": {
      "text/plain": [
       "array(['%', '25.51', '25.51', '25.41', '24.71', '24.16', '23.53', '23.43',\n",
       "       '24.55', '25.47', '25.62', '25.72', '25.55'], \n",
       "      dtype='<U5')"
      ]
     },
     "execution_count": 47,
     "metadata": {},
     "output_type": "execute_result"
    }
   ],
   "source": [
    "est_temp_abs_month"
   ]
  },
  {
   "cell_type": "code",
   "execution_count": 49,
   "metadata": {
    "collapsed": false
   },
   "outputs": [
    {
     "ename": "ValueError",
     "evalue": "could not convert string to float: '%'",
     "output_type": "error",
     "traceback": [
      "\u001b[1;31m\u001b[0m",
      "\u001b[1;31mValueError\u001b[0mTraceback (most recent call last)",
      "\u001b[1;32m<ipython-input-49-4cc60211808c>\u001b[0m in \u001b[0;36m<module>\u001b[1;34m()\u001b[0m\n\u001b[1;32m----> 1\u001b[1;33m \u001b[0mfloat\u001b[0m\u001b[1;33m(\u001b[0m\u001b[0mest_temp_abs_month\u001b[0m\u001b[1;33m[\u001b[0m\u001b[1;36m0\u001b[0m\u001b[1;33m]\u001b[0m\u001b[1;33m)\u001b[0m \u001b[1;33m*\u001b[0m \u001b[1;36m3\u001b[0m  \u001b[1;31m#então, o float pega uma string e faz operação, mas não sei pq tá dando erro, tá exatamente igual  do professor\u001b[0m\u001b[1;33m\u001b[0m\u001b[0m\n\u001b[0m",
      "\u001b[1;31mValueError\u001b[0m: could not convert string to float: '%'"
     ]
    }
   ],
   "source": [
    "float(est_temp_abs_month[0]) * 3  #então, o float pega uma string e faz operação, mas não sei pq tá dando erro, tá exatamente igual  do professor"
   ]
  },
  {
   "cell_type": "markdown",
   "metadata": {},
   "source": [
    "# Definindo a função que recebe o nome do arquivo de dado como argumento e retorne: um numpy array da temperatura anual estimada"
   ]
  },
  {
   "cell_type": "code",
   "execution_count": null,
   "metadata": {
    "collapsed": true
   },
   "outputs": [],
   "source": [
    "def temp_anodec_anomanual_incanomanual_ano10_incano10(arquivo):\n",
    "    assert type(arquivo) == np.ndarray, \n",
    "    temperatura_anual_estimada =np.nan_to_num(arquivo[:,4]) + \n",
    "      return (temperatura_anual_estimada)"
   ]
  },
  {
   "cell_type": "code",
   "execution_count": 22,
   "metadata": {
    "collapsed": true
   },
   "outputs": [],
   "source": [
    "%matplotlib inline\n",
    "import matplotlib.pyplot as plt\n",
    "import glob \n",
    "# Importamos as bibliotecas necessárias para o trabalho."
   ]
  },
  {
   "cell_type": "code",
   "execution_count": 23,
   "metadata": {
    "collapsed": true
   },
   "outputs": [],
   "source": [
    "arquivos= glob.glob('dados/*.txt')\n",
    "#Pegamos todos os arquivos na pasta 'dados' com o formato .txt"
   ]
  },
  {
   "cell_type": "code",
   "execution_count": null,
   "metadata": {
    "collapsed": true
   },
   "outputs": [],
   "source": []
  }
 ],
 "metadata": {
  "anaconda-cloud": {},
  "kernelspec": {
   "display_name": "Python [Root]",
   "language": "python",
   "name": "Python [Root]"
  },
  "language_info": {
   "codemirror_mode": {
    "name": "ipython",
    "version": 3
   },
   "file_extension": ".py",
   "mimetype": "text/x-python",
   "name": "python",
   "nbconvert_exporter": "python",
   "pygments_lexer": "ipython3",
   "version": "3.5.2"
  }
 },
 "nbformat": 4,
 "nbformat_minor": 0
}
